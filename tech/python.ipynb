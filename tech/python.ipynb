{
 "cells": [
  {
   "cell_type": "code",
   "execution_count": 2,
   "id": "ce08411b-b1cc-46a1-af79-3d6265e2d78f",
   "metadata": {},
   "outputs": [
    {
     "name": "stdout",
     "output_type": "stream",
     "text": [
      "this is a very long string but it just keeps on going man\n"
     ]
    }
   ],
   "source": [
    "user='man'\n",
    "print('this is a very long string '\n",
    "      f'but it just keeps on going {user}')"
   ]
  },
  {
   "cell_type": "code",
   "execution_count": 28,
   "id": "19702e4e-2813-46d4-aea0-a5530445d1c3",
   "metadata": {},
   "outputs": [],
   "source": [
    "# imports\n",
    "import subprocess\n",
    "import json\n",
    "from yaml import load as _yaml_load, dump as _yaml_dump\n",
    "try:\n",
    "  from yaml import CLoader as Loader, CDumper as Dumper\n",
    "except ImportError:\n",
    "  from yaml import Loader, Dumper\n",
    "def yaml_load(f):\n",
    "  return _yaml_load(f,Loader=Loader)\n",
    "def yaml_dump(d):\n",
    "  return _yaml_dump(d,Dumper=Dumper)"
   ]
  },
  {
   "cell_type": "markdown",
   "id": "eb267cc3-4ff3-449e-a336-0e04c39bb568",
   "metadata": {},
   "source": [
    "# File processing"
   ]
  },
  {
   "cell_type": "code",
   "execution_count": 11,
   "id": "92a17d93-29a2-4601-955a-d6656d98f1ff",
   "metadata": {},
   "outputs": [
    {
     "name": "stdout",
     "output_type": "stream",
     "text": [
      "/dev/nvme0n1\n",
      "['name', 'label', 'size', 'fssize', 'fstype', 'mountpoints', 'children']\n",
      "[{'name': '/dev/nvme0n1p1', 'label': None, 'size': 536870912, 'fssize': '535805952', 'fstype': 'vfat', 'mountpoints': ['/boot/efi']}, {'name': '/dev/nvme0n1p2', 'label': None, 'size': 107374182400, 'fssize': None, 'fstype': 'crypto_LUKS', 'mountpoints': [None], 'children': [{'name': '/dev/mapper/cr_root', 'label': None, 'size': 107372085248, 'fssize': '105087164416', 'fstype': 'ext4', 'mountpoints': ['/']}]}, {'name': '/dev/nvme0n1p3', 'label': None, 'size': 399893331968, 'fssize': None, 'fstype': 'crypto_LUKS', 'mountpoints': [None], 'children': [{'name': '/dev/mapper/cr_home', 'label': None, 'size': 399891234816, 'fssize': '392468922368', 'fstype': 'ext4', 'mountpoints': ['/home']}]}, {'name': '/dev/nvme0n1p4', 'label': None, 'size': 4304739840, 'fssize': None, 'fstype': 'crypto_LUKS', 'mountpoints': [None], 'children': [{'name': '/dev/mapper/cr_swap', 'label': None, 'size': 4302642688, 'fssize': None, 'fstype': 'swap', 'mountpoints': ['[SWAP]']}]}]\n"
     ]
    }
   ],
   "source": [
    "# JSON: loading into python dictionary/list structure\n",
    "lsblk = json.loads(subprocess.run(['lsblk','-pbJ','-o','NAME,LABEL,SIZE,FSSIZE,FSTYPE,MOUNTPOINTS'],\n",
    "  stdout=subprocess.PIPE).stdout.decode('utf-8'))\n",
    "print(lsblk['blockdevices'][0]['name'])\n",
    "print(list(lsblk['blockdevices'][0]))\n",
    "# print(yaml_dump(lsblk)) # dump as YAML"
   ]
  },
  {
   "cell_type": "markdown",
   "id": "ae8bf1c6-a85f-47b5-a57d-1b8d406fb139",
   "metadata": {},
   "source": [
    "# Conditionals"
   ]
  },
  {
   "cell_type": "code",
   "execution_count": 35,
   "id": "aee552df-f4bc-4bb3-9185-5b2e1b8da265",
   "metadata": {},
   "outputs": [
    {
     "name": "stdout",
     "output_type": "stream",
     "text": [
      "True\n",
      "False\n"
     ]
    }
   ],
   "source": [
    "# is_ test function with ternary expression\n",
    "def is_ssd(devicename):\n",
    "  # TODO Make SSD identification more robust\n",
    "  return True if devicename.find('nvme')>=0 else False\n",
    "print(is_ssd('/dev/nvme0'))\n",
    "print(is_ssd('/dev/sda'))"
   ]
  },
  {
   "cell_type": "code",
   "execution_count": 14,
   "id": "74925e8f-23bd-4dc0-b57d-058331a538aa",
   "metadata": {},
   "outputs": [
    {
     "name": "stdout",
     "output_type": "stream",
     "text": [
      "0 8\n",
      "1 23\n",
      "2 45\n",
      "3 5\n",
      "3\n"
     ]
    }
   ],
   "source": [
    "xs = [8, 23, 45, 5]\n",
    "for idx, x in enumerate(xs): # use option start=1 to start index at 1\n",
    "    print(idx, x)\n",
    "index_min = min(range(len(xs)), key=xs.__getitem__)\n",
    "print(index_min)"
   ]
  },
  {
   "cell_type": "code",
   "execution_count": 3,
   "id": "1a062687-61b4-45ba-9010-3d4f4f7c7ad4",
   "metadata": {},
   "outputs": [
    {
     "name": "stdout",
     "output_type": "stream",
     "text": [
      "category 1: drinks\n",
      "category 2: fruit\n",
      "category 3: vegetables\n",
      "#fruits: 12\n",
      "#apples: 2\n",
      "{'apples': 2, 'strawberries': 10, 'pears': 0, 'tomatoes': 7, 'cashews': 666}\n",
      "{'apples': 2, 'cashews': 666}\n",
      "{'apples': 2, 'tomatoes': 7}\n",
      "{'vegetables': {'potatos': 50, 'courgettes': 5}, 'drinks': {'beer': 7, 'wine': 9}}\n"
     ]
    }
   ],
   "source": [
    "# nested dictionary, iterate contents with an index variable using enumerate()\n",
    "inventory = {'fruit': {'apples': 2, 'strawberries': 10, 'pears': 0}, 'vegetables': {'potatos': 50, 'courgettes': 5}, 'drinks': {'beer': 7, 'wine': 9}}\n",
    "for idx,d in enumerate(sorted(inventory),start=1):\n",
    "  print(f\"category {idx}: {d}\")\n",
    "\n",
    "# derived class with self-defined additional methods\n",
    "class inventory_category(dict):\n",
    "    def sum_numbers(self):\n",
    "        return sum(self.values())\n",
    "    def count_apples(self):\n",
    "        return self['apples']\n",
    "fruits = inventory_category(inventory['fruit'])\n",
    "# del inventory\n",
    "print(\"#fruits:\",fruits.sum_numbers())\n",
    "print(\"#apples:\",fruits.count_apples())\n",
    "# create and extend dictionary from existing\n",
    "fruits_ext = fruits\n",
    "fruits_ext.update({'tomatoes': 7, 'cashews': 666})\n",
    "print(fruits_ext)\n",
    "# different ways to select multiple entries from dictionary\n",
    "print(dict(filter(lambda e: e[0] in ['apples','cashews'], fruits_ext.items()))) # why the hell to I need [0]?!\n",
    "print({k: v for k,v in fruits_ext.items() if k in ['apples','tomatoes']}) # this one makes more sense to me\n",
    "\n",
    "# get keys in a dictionary beside excluded ones\n",
    "print({k: v for k,v in inventory.items() if not k in ['fruit']})"
   ]
  },
  {
   "cell_type": "code",
   "execution_count": 25,
   "id": "75f88587-4327-4ec1-8960-6076ae12860e",
   "metadata": {},
   "outputs": [
    {
     "name": "stdout",
     "output_type": "stream",
     "text": [
      "1 3\n",
      "2 4\n"
     ]
    }
   ],
   "source": [
    "# Testing python's augmented assigment (multiple values to multiple objects)\n",
    "from numpy import array\n",
    "a=1\n",
    "b=3\n",
    "print(a,b)\n",
    "# a,b += 1 # illegal\n",
    "a,b = array([a,b])+1\n",
    "print(a,b)"
   ]
  },
  {
   "cell_type": "code",
   "execution_count": 4,
   "id": "6848f21e-27c4-4c59-a4ae-336dcf67897c",
   "metadata": {},
   "outputs": [
    {
     "name": "stdout",
     "output_type": "stream",
     "text": [
      "the_disk disk\n",
      "---\n",
      "disk_world disk\n",
      "efi partition\n",
      "root partition\n",
      "var_tmp partition\n",
      "efi_fs format\n",
      "root_fs format\n",
      "var_tmp_fs format\n",
      "mnt0 mount\n",
      "mnt1 mount\n",
      "mnt2 mount\n",
      "preserve5 partition\n",
      "fmt5 format\n",
      "preserve6 partition\n",
      "fmt6 format\n"
     ]
    }
   ],
   "source": [
    "# Update a dictionary in a list of dictionaries\n",
    "with open('/home/erfort/git/lwp5/util/autoinstall.yaml','r') as file: autoinstall = yaml_load(file)\n",
    "for i in autoinstall['storage']['config']:#\n",
    "    if i['type'] == 'disk':\n",
    "        print(i['id'],i['type'])\n",
    "        i.update({'id': 'disk_world'})\n",
    "print('---')\n",
    "for i in autoinstall['storage']['config']:#\n",
    "    print(i['id'],i['type'])"
   ]
  },
  {
   "cell_type": "code",
   "execution_count": 12,
   "id": "10d64310-69a7-4b03-912c-6166b669f5f8",
   "metadata": {},
   "outputs": [
    {
     "name": "stdout",
     "output_type": "stream",
     "text": [
      "highest price: {'name': 'watermelon', 'price': 5}\n",
      "['strawberry', 'watermelon']\n"
     ]
    }
   ],
   "source": [
    "# find item with max/min value for certain key in list of dictionaries with common key\n",
    "items = [{'name': 'apple', 'price': 1}, {'name': 'strawberry', 'price': 3}, {'name': 'watermelon', 'price': 5}]\n",
    "print(f\"highest price: {max(items, key=lambda x:x['price'])}\")\n",
    "print([k['name'] for k in items if k['price'] >= 3])"
   ]
  },
  {
   "cell_type": "markdown",
   "id": "e954c909-2c6d-4bc2-a7c8-94f4ccbeeb6c",
   "metadata": {},
   "source": [
    "## String formatting"
   ]
  },
  {
   "cell_type": "code",
   "execution_count": 7,
   "id": "c6d01fa6-faa2-4281-bc0a-845d880304df",
   "metadata": {},
   "outputs": [
    {
     "name": "stdout",
     "output_type": "stream",
     "text": [
      "-3\n",
      "-4\n",
      "3\n",
      "4\n"
     ]
    }
   ],
   "source": [
    "# round float in formatted string\n",
    "print(f'{-3.4:.0f}')\n",
    "print(f'{-3.5:.0f}')\n",
    "print(f'{3.4:.0f}')\n",
    "print(f'{3.5:.0f}')"
   ]
  },
  {
   "cell_type": "code",
   "execution_count": 24,
   "id": "d27f5d91-9bb2-45d5-b6ac-9b6281fe1d89",
   "metadata": {},
   "outputs": [
    {
     "name": "stdout",
     "output_type": "stream",
     "text": [
      "initial 1st dictionary {'nikhil': 1, 'vashu': 5, 'manjeet': 10, 'akshat': 15}\n",
      "final dictionary {'a': 1, 'b': 5, 'c': 10, 'd': 15}\n"
     ]
    }
   ],
   "source": [
    "# Python code to demonstrate changing all keys of dictionary corresponding to list using zip()\n",
    "  \n",
    "# inititialise dictionary\n",
    "ini_dict = {'nikhil': 1, 'vashu' : 5, \n",
    "            'manjeet' : 10, 'akshat' : 15}\n",
    "# initialise list\n",
    "ini_list = ['a', 'b', 'c', 'd']\n",
    "# printing initial json\n",
    "print (\"initial 1st dictionary\", ini_dict)\n",
    "# changing keys of dictionary\n",
    "final_dict = dict(zip(ini_list, list(ini_dict.values())))\n",
    "# final result\n",
    "print (\"final dictionary\", str(final_dict))"
   ]
  },
  {
   "cell_type": "code",
   "execution_count": 29,
   "id": "180c5261-dc0c-4140-9ad7-381dcfc454d1",
   "metadata": {},
   "outputs": [
    {
     "name": "stdout",
     "output_type": "stream",
     "text": [
      "<class '__main__.DotDict'> {'k': 'l', 'm': 'n'}\n",
      "n y\n",
      "{'k': 'l', 'm': 'n'}\n"
     ]
    }
   ],
   "source": [
    "# Access dictionary items by .(dot) notation with dictionary super class\n",
    "# Issues: doesn't work with non-string keys\n",
    "ini_dict = {'a': 1, 'b': 2, 'c': {'k':'l', 'm':'n'}, 'd': ['x','y','z']}\n",
    "class DotDict(dict):\n",
    "    \"\"\"dot.notation access to dictionary attributes\"\"\"\n",
    "    def __getattr__(*args):\n",
    "        val = dict.get(*args)\n",
    "        return DotDict(val) if isinstance(val,dict) else val\n",
    "    __setattr__ = dict.__setitem__\n",
    "    __delattr__ = dict.__delitem__\n",
    "dd = DotDict(ini_dict)\n",
    "c = dd.c\n",
    "print(type(c),c)\n",
    "print(dd.c.m, dd.d[1]) # can be chained, that's what the if else return is for\n",
    "print(dict(c)) # can be cast back to dictionary if required"
   ]
  },
  {
   "cell_type": "code",
   "execution_count": 1,
   "id": "8a33a533-5a48-435e-96c0-1d8a532672be",
   "metadata": {},
   "outputs": [
    {
     "name": "stdout",
     "output_type": "stream",
     "text": [
      "y\n",
      "derp\n"
     ]
    }
   ],
   "source": [
    "# Nested dictionaries\n",
    "d = {'a': 1, 'b': {'k': 'l', 'm': {'x': 'y'}}}\n",
    "print(d.get('b',None).get('m',None).get('x',None)) # Access nested elements, default to None\n",
    "print(d.get('c','derp'))"
   ]
  },
  {
   "cell_type": "markdown",
   "id": "3820b127-24ee-4cbd-83d9-a27fc25f5acf",
   "metadata": {},
   "source": [
    "# Sets and subsets\n",
    "https://realpython.com/python-sets/"
   ]
  },
  {
   "cell_type": "code",
   "execution_count": 2,
   "id": "0ba0bc42-14cc-4184-b6ed-a9117b8f1171",
   "metadata": {},
   "outputs": [
    {
     "name": "stdout",
     "output_type": "stream",
     "text": [
      "((2, 3),) 1\n",
      "True\n",
      "(2, 3, 4) 3\n",
      "True\n",
      "(5,) 1\n",
      "False\n",
      "(3,) 1\n",
      "False\n",
      "(['b', 'c'],) 1\n",
      "True\n",
      "('b', 'c') 2\n",
      "True\n",
      "('c',) 1\n",
      "True\n",
      "('d',) 1\n",
      "False\n",
      "['a', 'c']\n"
     ]
    }
   ],
   "source": [
    "# \"iterable\" attribute, see https://www.geeksforgeeks.org/how-to-check-if-an-object-is-iterable-in-python/\n",
    "def isin(l,*args):\n",
    "  '''Check whether item(s) args are in l'''\n",
    "  print(args,len(args))\n",
    "  if l is None: return False # only here because I was handling variables that could be None\n",
    "  if len(args) == 1:\n",
    "    if hasattr(args[0],'__iter__'):\n",
    "      return set(tuple(args[0])).issubset(l)\n",
    "    else:\n",
    "      return set((args[0],)).issubset(l)\n",
    "  else:\n",
    "    return set(args).issubset(l)\n",
    "\n",
    "l = {1,2,3,4}\n",
    "print(isin(l,(2,3)))\n",
    "print(isin(l,2,3,4))\n",
    "print(isin(l,5))\n",
    "print(isin(None,3))\n",
    "l = ['a','b','c']\n",
    "print(isin(l,['b','c']))\n",
    "print(isin(l,'b','c'))\n",
    "print(isin(l,'c'))\n",
    "print(isin(l,'d'))\n",
    "l.pop(1)\n",
    "print(l)\n",
    "\n",
    "# Union, difference, intersection, ...\n",
    "s1={1, 2, 3}\n",
    "s2={2, 3, 4}\n",
    "common = sorted(s1 & s2)\n",
    "difference1 = sorted(s1.difference(s2))\n",
    "difference2 = sorted(s2.difference(s1))\n",
    "union = sorted(s1.union(s2))\n",
    "print(common)\n",
    "print(difference1)\n",
    "print(difference2)\n",
    "print(union)"
   ]
  },
  {
   "cell_type": "code",
   "execution_count": 26,
   "id": "1eb448fb-3768-495e-a86a-33f5d9a4d400",
   "metadata": {},
   "outputs": [
    {
     "name": "stdout",
     "output_type": "stream",
     "text": [
      "True True True\n",
      "True\n",
      "False False\n"
     ]
    }
   ],
   "source": [
    "# Iterable object?\n",
    "# Lists, dictionaries and tuples are iterable\n",
    "print(hasattr([], '__iter__'), hasattr({}, '__iter__'), hasattr((), '__iter__'))\n",
    "# Strings are iterable\n",
    "print(hasattr(str, '__iter__'))\n",
    "# Integers and floats are NOT iterable\n",
    "print(hasattr(1, '__iter__'), hasattr(1.0, '__iter__'))"
   ]
  },
  {
   "cell_type": "code",
   "execution_count": 19,
   "id": "6bea5f8a-ea1d-4dbe-93ca-0bbf24e9b011",
   "metadata": {},
   "outputs": [
    {
     "name": "stdout",
     "output_type": "stream",
     "text": [
      "1\n",
      "2\n",
      "[1, 2, 3, 4]\n",
      "[1, 2, 3, 4]\n",
      "None\n",
      "[1, 2, 3, 4]\n"
     ]
    }
   ],
   "source": [
    "# Lists: merging, appending, reference vs. copy\n",
    "l1 = [1, 2, 3]\n",
    "for i in [i for i in l if i<3]:\n",
    "    print(i)\n",
    "l2 = l1 + [4]\n",
    "l3 = l1.append(4) # this modifies l1 and nothing gets assigned to l3\n",
    "print(l2)\n",
    "print(l1)\n",
    "print(l3)\n",
    "l1 = [7,8,9] # python used a copy of l1 above, changing l1 doesn't affect l2\n",
    "print(l2)"
   ]
  },
  {
   "cell_type": "code",
   "execution_count": 23,
   "id": "d8344b1c-d307-4dda-b80e-bb345ffaeded",
   "metadata": {},
   "outputs": [
    {
     "name": "stdout",
     "output_type": "stream",
     "text": [
      "yerp\n"
     ]
    }
   ],
   "source": [
    "# Truthiness of None, strings, etc.\n",
    "if None: # None resolves to False\n",
    "    print('schlerp')\n",
    "if '': # empty string resolves to False\n",
    "    print('derp')\n",
    "if 'derp': # non-empty string resolves to True\n",
    "    print('yerp')"
   ]
  },
  {
   "cell_type": "code",
   "execution_count": 22,
   "id": "7cce97dc-73cf-4fad-8796-ce6e4c552a5b",
   "metadata": {},
   "outputs": [
    {
     "name": "stdout",
     "output_type": "stream",
     "text": [
      "a|b|c\n"
     ]
    }
   ],
   "source": [
    "# Join/concatenate list of strings\n",
    "joined='|'.join(['a','b','c'])\n",
    "print(joined)"
   ]
  },
  {
   "cell_type": "code",
   "execution_count": 16,
   "id": "29e0874b-e3d7-4c45-9dcc-ee8865d12765",
   "metadata": {},
   "outputs": [
    {
     "name": "stdout",
     "output_type": "stream",
     "text": [
      "13 3\n",
      "3 \n",
      "---\n",
      "14 3\n",
      "13 1\n",
      "13 \n",
      "---\n",
      "8 3\n",
      "3 \n",
      "---\n"
     ]
    }
   ],
   "source": [
    "# Find non-digit character from back of string(s)\n",
    "for name in [\n",
    "    '/dev/nvme0n1p3',\n",
    "    '/dev/nvme0n1p13',\n",
    "    '/dev/sda3'\n",
    "    ]:\n",
    "    pos=len(name)\n",
    "    while name[pos-1].isdigit():\n",
    "        pos -= 1\n",
    "        print(pos,name[pos])\n",
    "    number = int(name[pos::])\n",
    "    print(number,'\\n---')"
   ]
  },
  {
   "cell_type": "code",
   "execution_count": 27,
   "id": "c347fee7-91b5-4150-bf94-3da652cd3294",
   "metadata": {},
   "outputs": [
    {
     "name": "stdout",
     "output_type": "stream",
     "text": [
      "1 2\n"
     ]
    }
   ],
   "source": [
    "a=1; b=2\n",
    "print(a,b)"
   ]
  },
  {
   "cell_type": "code",
   "execution_count": 26,
   "id": "55281317-3fd3-431b-a28a-ef16b35bb31d",
   "metadata": {},
   "outputs": [
    {
     "data": {
      "application/json": {
       "cell": {
        "!": "OSMagics",
        "HTML": "Other",
        "SVG": "Other",
        "bash": "Other",
        "capture": "ExecutionMagics",
        "debug": "ExecutionMagics",
        "file": "Other",
        "html": "DisplayMagics",
        "javascript": "DisplayMagics",
        "js": "DisplayMagics",
        "latex": "DisplayMagics",
        "markdown": "DisplayMagics",
        "perl": "Other",
        "prun": "ExecutionMagics",
        "pypy": "Other",
        "python": "Other",
        "python2": "Other",
        "python3": "Other",
        "ruby": "Other",
        "script": "ScriptMagics",
        "sh": "Other",
        "svg": "DisplayMagics",
        "sx": "OSMagics",
        "system": "OSMagics",
        "time": "ExecutionMagics",
        "timeit": "ExecutionMagics",
        "writefile": "OSMagics"
       },
       "line": {
        "alias": "OSMagics",
        "alias_magic": "BasicMagics",
        "autoawait": "AsyncMagics",
        "autocall": "AutoMagics",
        "automagic": "AutoMagics",
        "autosave": "KernelMagics",
        "bookmark": "OSMagics",
        "cat": "Other",
        "cd": "OSMagics",
        "clear": "KernelMagics",
        "colors": "BasicMagics",
        "conda": "PackagingMagics",
        "config": "ConfigMagics",
        "connect_info": "KernelMagics",
        "cp": "Other",
        "debug": "ExecutionMagics",
        "dhist": "OSMagics",
        "dirs": "OSMagics",
        "doctest_mode": "BasicMagics",
        "ed": "Other",
        "edit": "KernelMagics",
        "env": "OSMagics",
        "gui": "BasicMagics",
        "hist": "Other",
        "history": "HistoryMagics",
        "killbgscripts": "ScriptMagics",
        "ldir": "Other",
        "less": "KernelMagics",
        "lf": "Other",
        "lk": "Other",
        "ll": "Other",
        "load": "CodeMagics",
        "load_ext": "ExtensionMagics",
        "loadpy": "CodeMagics",
        "logoff": "LoggingMagics",
        "logon": "LoggingMagics",
        "logstart": "LoggingMagics",
        "logstate": "LoggingMagics",
        "logstop": "LoggingMagics",
        "ls": "Other",
        "lsmagic": "BasicMagics",
        "lx": "Other",
        "macro": "ExecutionMagics",
        "magic": "BasicMagics",
        "man": "KernelMagics",
        "matplotlib": "PylabMagics",
        "mkdir": "Other",
        "more": "KernelMagics",
        "mv": "Other",
        "notebook": "BasicMagics",
        "page": "BasicMagics",
        "pastebin": "CodeMagics",
        "pdb": "ExecutionMagics",
        "pdef": "NamespaceMagics",
        "pdoc": "NamespaceMagics",
        "pfile": "NamespaceMagics",
        "pinfo": "NamespaceMagics",
        "pinfo2": "NamespaceMagics",
        "pip": "PackagingMagics",
        "popd": "OSMagics",
        "pprint": "BasicMagics",
        "precision": "BasicMagics",
        "prun": "ExecutionMagics",
        "psearch": "NamespaceMagics",
        "psource": "NamespaceMagics",
        "pushd": "OSMagics",
        "pwd": "OSMagics",
        "pycat": "OSMagics",
        "pylab": "PylabMagics",
        "qtconsole": "KernelMagics",
        "quickref": "BasicMagics",
        "recall": "HistoryMagics",
        "rehashx": "OSMagics",
        "reload_ext": "ExtensionMagics",
        "rep": "Other",
        "rerun": "HistoryMagics",
        "reset": "NamespaceMagics",
        "reset_selective": "NamespaceMagics",
        "rm": "Other",
        "rmdir": "Other",
        "run": "ExecutionMagics",
        "save": "CodeMagics",
        "sc": "OSMagics",
        "set_env": "OSMagics",
        "store": "StoreMagics",
        "sx": "OSMagics",
        "system": "OSMagics",
        "tb": "ExecutionMagics",
        "time": "ExecutionMagics",
        "timeit": "ExecutionMagics",
        "unalias": "OSMagics",
        "unload_ext": "ExtensionMagics",
        "who": "NamespaceMagics",
        "who_ls": "NamespaceMagics",
        "whos": "NamespaceMagics",
        "xdel": "NamespaceMagics",
        "xmode": "BasicMagics"
       }
      },
      "text/plain": [
       "Available line magics:\n",
       "%alias  %alias_magic  %autoawait  %autocall  %automagic  %autosave  %bookmark  %cat  %cd  %clear  %colors  %conda  %config  %connect_info  %cp  %debug  %dhist  %dirs  %doctest_mode  %ed  %edit  %env  %gui  %hist  %history  %killbgscripts  %ldir  %less  %lf  %lk  %ll  %load  %load_ext  %loadpy  %logoff  %logon  %logstart  %logstate  %logstop  %ls  %lsmagic  %lx  %macro  %magic  %man  %matplotlib  %mkdir  %more  %mv  %notebook  %page  %pastebin  %pdb  %pdef  %pdoc  %pfile  %pinfo  %pinfo2  %pip  %popd  %pprint  %precision  %prun  %psearch  %psource  %pushd  %pwd  %pycat  %pylab  %qtconsole  %quickref  %recall  %rehashx  %reload_ext  %rep  %rerun  %reset  %reset_selective  %rm  %rmdir  %run  %save  %sc  %set_env  %store  %sx  %system  %tb  %time  %timeit  %unalias  %unload_ext  %who  %who_ls  %whos  %xdel  %xmode\n",
       "\n",
       "Available cell magics:\n",
       "%%!  %%HTML  %%SVG  %%bash  %%capture  %%debug  %%file  %%html  %%javascript  %%js  %%latex  %%markdown  %%perl  %%prun  %%pypy  %%python  %%python2  %%python3  %%ruby  %%script  %%sh  %%svg  %%sx  %%system  %%time  %%timeit  %%writefile\n",
       "\n",
       "Automagic is ON, % prefix IS NOT needed for line magics."
      ]
     },
     "execution_count": 26,
     "metadata": {},
     "output_type": "execute_result"
    }
   ],
   "source": [
    "%lsmagic"
   ]
  },
  {
   "cell_type": "code",
   "execution_count": 32,
   "id": "4b5e3935-dc8c-425a-a9f9-0dcd6d139d57",
   "metadata": {},
   "outputs": [
    {
     "name": "stdout",
     "output_type": "stream",
     "text": [
      "[{'b', 'a'}]\n",
      "['a', 'b']\n"
     ]
    }
   ],
   "source": [
    "a=['a']\n",
    "b=['b','a']\n",
    "c=a+b\n",
    "# unique\n",
    "print([*set(c)]) # un-ordered\n",
    "c = sorted(set(c), key=lambda x: c.index(x)) # ordered, but slow O(n²)\n",
    "print(c)"
   ]
  },
  {
   "cell_type": "code",
   "execution_count": null,
   "id": "7ed579b3-a9a4-4daf-b478-0c8f9a5316c7",
   "metadata": {},
   "outputs": [],
   "source": []
  }
 ],
 "metadata": {
  "kernelspec": {
   "display_name": "Python 3.8 (ipykernel)",
   "language": "python",
   "name": "python3.8"
  },
  "language_info": {
   "codemirror_mode": {
    "name": "ipython",
    "version": 3
   },
   "file_extension": ".py",
   "mimetype": "text/x-python",
   "name": "python",
   "nbconvert_exporter": "python",
   "pygments_lexer": "ipython3",
   "version": "3.8.15"
  }
 },
 "nbformat": 4,
 "nbformat_minor": 5
}
