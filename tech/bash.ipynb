{
 "cells": [
  {
   "cell_type": "markdown",
   "id": "fd090472-00cb-42c6-93e1-037c634b8a92",
   "metadata": {},
   "source": [
    "## String Manipulation"
   ]
  },
  {
   "cell_type": "code",
   "execution_count": 73,
   "id": "89760c27-6404-472a-bb0e-520facd6f7db",
   "metadata": {},
   "outputs": [
    {
     "name": "stdout",
     "output_type": "stream",
     "text": [
      "ABC123xyz 123 xyz 123xyz\n",
      "9\n"
     ]
    }
   ],
   "source": [
    "# Substring\n",
    "s='abcABC123xyz'\n",
    "echo ${s:3} ${s:6:3} ${s:(-3)} ${s: -6}\n",
    "# Note that negative indexes (position from end of string) need parentheses or space to be escaped\n",
    "# find position of substring in string (haven't seen a braces-version of this)\n",
    "str=\"Bash is Cool\"; word=\"Cool\"\n",
    "expr index \"$str\" \"$word\""
   ]
  },
  {
   "cell_type": "code",
   "execution_count": 59,
   "id": "dca6954f-ecbe-4c18-ba2d-95ee0c4faf92",
   "metadata": {},
   "outputs": [
    {
     "name": "stdout",
     "output_type": "stream",
     "text": [
      "123xyzABC456\n",
      "456\n",
      "abcABC123xyz\n",
      "abc\n"
     ]
    }
   ],
   "source": [
    "# Deleting substrings\n",
    "s='abcABC123xyzABC456'\n",
    "echo ${s#a*C} # delete shortest match from beginning\n",
    "echo ${s##a*C} # delete longest match from beginning\n",
    "echo ${s%A*[0-9]} # delete shortest match from end\n",
    "echo ${s%%A*[0-9]} # delete longest match from end"
   ]
  },
  {
   "cell_type": "code",
   "execution_count": 72,
   "id": "843e9912-c4c5-4192-9f0b-47caaeaaa920",
   "metadata": {},
   "outputs": [
    {
     "name": "stdout",
     "output_type": "stream",
     "text": [
      "abcABC123ABCabc\n",
      "XYZABC123ABCabc\n",
      "abcABC123ABCXYZ\n",
      "ABC123ABCabc\n",
      "abcABC123ABC\n",
      "ABC123ABC\n"
     ]
    }
   ],
   "source": [
    "# Substring substitution\n",
    "stringZ=abcABC123ABCabc\n",
    "echo $stringZ\n",
    "echo ${stringZ/#abc/XYZ} # from start\n",
    "echo ${stringZ/%abc/XYZ} # from end\n",
    "echo ${stringZ/abc} # delete from start\n",
    "echo ${stringZ/%abc} # delete from end\n",
    "echo ${stringZ//abc} # delete all occurances"
   ]
  },
  {
   "cell_type": "code",
   "execution_count": 67,
   "id": "ddd17dc9-5e50-44f5-9d34-fd8401e645bd",
   "metadata": {},
   "outputs": [
    {
     "name": "stdout",
     "output_type": "stream",
     "text": [
      "blablubb\n",
      "blubbbla\n"
     ]
    }
   ],
   "source": [
    "# String concatenation\n",
    "a='bla'\n",
    "b='blubb'\n",
    "c=${a}${b}\n",
    "echo $c\n",
    "b+=$a\n",
    "echo $b"
   ]
  },
  {
   "cell_type": "code",
   "execution_count": 89,
   "id": "14a80c41-c8fd-467b-b0f0-aa2c156b162c",
   "metadata": {},
   "outputs": [
    {
     "name": "stdout",
     "output_type": "stream",
     "text": [
      "Bla blubb\n",
      "BLA BLUBB\n",
      "bLa bLubb\n",
      "bLA BLUBB\n",
      "bla blubb\n"
     ]
    }
   ],
   "source": [
    "# To lower or upper case\n",
    "s='bla blubb'\n",
    "echo ${s^} # first upper case\n",
    "echo ${s^^} # all upper case\n",
    "echo ${s^^[l]} # only certain characters\n",
    "s='BLA BLUBB'\n",
    "echo ${s,} # first lower case\n",
    "echo ${s,,} # all lower case (doesn't seem to work with specifying certain characters)"
   ]
  },
  {
   "cell_type": "code",
   "execution_count": 37,
   "id": "5f35c9c7-f501-4455-94d5-b7210732b739",
   "metadata": {},
   "outputs": [
    {
     "name": "stdout",
     "output_type": "stream",
     "text": [
      "2 3\n",
      "2 3\n"
     ]
    }
   ],
   "source": [
    "# extract a maximum of $length positional parameters, starting at $position\n",
    "function f() {\n",
    "    echo ${*:2}\n",
    "    echo ${@:2}\n",
    "}\n",
    "f 1 2 3"
   ]
  },
  {
   "cell_type": "code",
   "execution_count": null,
   "id": "3ac5f770-d4e5-4db6-b038-b9c75b3bf0fa",
   "metadata": {},
   "outputs": [
    {
     "name": "stdout",
     "output_type": "stream",
     "text": [
      "abc123XYZ@troll_ol-\n"
     ]
    }
   ],
   "source": [
    "# Sanitize a string\n",
    "s='abc123XYZ@troll_ol-!\"§$%&/()=?'\n",
    "echo ${s//[^a-zA-Z0-9_@\\\\\\-.]}"
   ]
  },
  {
   "cell_type": "code",
   "execution_count": null,
   "id": "b790520b-5aa0-4c6a-ad81-12feb6f67267",
   "metadata": {},
   "outputs": [],
   "source": []
  }
 ],
 "metadata": {
  "kernelspec": {
   "display_name": "Bash",
   "language": "bash",
   "name": "bash"
  },
  "language_info": {
   "codemirror_mode": "shell",
   "file_extension": ".sh",
   "mimetype": "text/x-sh",
   "name": "bash"
  }
 },
 "nbformat": 4,
 "nbformat_minor": 5
}
